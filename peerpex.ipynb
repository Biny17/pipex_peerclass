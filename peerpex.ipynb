{
 "cells": [
  {
   "cell_type": "markdown",
   "metadata": {},
   "source": [
    "# Explications des functions + exemples\n",
    "\n",
    "### Ordre conseillé:\n",
    "- **pipe (`|`)**: Créer un lien: fd pour envoyer + fd pour recevoir\n",
    "- **fork**: Créer un nouveau process en dupliquant l'actuel\n",
    "- **dup2 pipe fd**: dupliquer les fd du pipe dans l'enfant\n",
    "- **open**: Ouvrir les fichiers d'input+output\n",
    "- **dup2 fichier fd**: dupliquer les fd des fichiers dans l'enfant\n",
    "- **execve**: Lancer les executables"
   ]
  },
  {
   "cell_type": "code",
   "execution_count": 3,
   "metadata": {},
   "outputs": [],
   "source": [
    "#some definitions\n",
    "pipe_ex = \"pipe_example.c\"\n",
    "fork_ex = \"fork_example.c\"\n",
    "fds_ex = \"fds_example.c\"\n",
    "dup2_one = \"dup2_one.c\"\n",
    "dup2_two = \"dup2_two.c\"\n",
    "execve_ex = \"execve_example.c\""
   ]
  },
  {
   "cell_type": "markdown",
   "metadata": {},
   "source": [
    "## pipe\n",
    "\n",
    "```c\n",
    "#include <unistd.h>\n",
    "\n",
    "int pipe(int pipefd[2]);\n",
    "// Remplie pipefd[2] avec les deux fd\n",
    "// Renvoie -1 en cas d'erreur"
   ]
  },
  {
   "cell_type": "markdown",
   "metadata": {},
   "source": [
    "#### Petite structure pratique 😎\n",
    "```c\n",
    "typedef struct s_pipefd\n",
    "{\n",
    "\tint\tread_fd;\n",
    "\tint\twrite_fd;\n",
    "}\tt_pipefd;"
   ]
  },
  {
   "cell_type": "code",
   "execution_count": 4,
   "metadata": {},
   "outputs": [
    {
     "data": {
      "text/markdown": [
       "```c\n",
       "#include <unistd.h>\n",
       "#include <stdio.h>\n",
       "\n",
       "typedef struct s_pipefd\n",
       "{\n",
       "\tint\tread_fd;\n",
       "\tint\twrite_fd;\n",
       "}\tt_pipefd;\n",
       "\n",
       "int\tmain(void)\n",
       "{\n",
       "\tt_pipefd\tfds;\n",
       "\tint\t\t\tresult;\n",
       "\tchar\t\tbuffer[100];\n",
       "\n",
       "\tresult = pipe((int *) &fds);\n",
       "\n",
       "\tprintf(\"resultat: %d\\n\", result);\n",
       "\tprintf(\"fd pour read: %d\\n\", fds.read_fd);\n",
       "\tprintf(\"fd pour write: %d\\n\\n\", fds.write_fd);\n",
       "\t\n",
       "\twrite(fds.write_fd, \"writing in pipe\", 16);\n",
       "\tint\tn_char = read(fds.read_fd, buffer, 16);\n",
       "\tbuffer[n_char] = '\\0';\n",
       "\tprintf(\"from pipe: |%s|\\n\", buffer);\n",
       "\treturn (0);\n",
       "}\n",
       "\n",
       "```"
      ],
      "text/plain": [
       "<IPython.core.display.Markdown object>"
      ]
     },
     "metadata": {},
     "output_type": "display_data"
    }
   ],
   "source": [
    "from IPython.display import Markdown, display\n",
    "with open(pipe_ex) as f:\n",
    "    code = f.read()\n",
    "display(Markdown(f\"```c\\n{code}\\n```\"))"
   ]
  },
  {
   "cell_type": "code",
   "execution_count": 5,
   "metadata": {},
   "outputs": [
    {
     "name": "stdout",
     "output_type": "stream",
     "text": [
      "resultat: 0\n",
      "fd pour read: 3\n",
      "fd pour write: 4\n",
      "\n",
      "from pipe: |writing in pipe|\n"
     ]
    }
   ],
   "source": [
    "%%bash -s \"$pipe_ex\"\n",
    "cc \"$1\" && ./a.out"
   ]
  },
  {
   "cell_type": "markdown",
   "metadata": {},
   "source": [
    "## fork\n",
    "\n",
    "```c\n",
    "#include <unistd.h>\n",
    "\n",
    "pid_t fork(void);\n",
    "// Duplique le process actuel (duplique toute les variables, les fd, le call stack... TOUT)\n",
    "// Sont indépendant: les free, les close, les variables\n",
    "// renvoie 0 seulement dans l'enfant\n",
    "// renvoie -1 en cas d'érreur"
   ]
  },
  {
   "cell_type": "code",
   "execution_count": 6,
   "metadata": {},
   "outputs": [
    {
     "data": {
      "text/markdown": [
       "```c\n",
       "#include \"peerclass.h\"\n",
       "\n",
       "void\taction_parent()\n",
       "{\n",
       "\tprintf(\"Hello from parent!\\n\");\n",
       "}\n",
       "void\taction_enfant()\n",
       "{\n",
       "\tprintf(\"Hello from child!\\n\");\n",
       "}\n",
       "\n",
       "int main()\n",
       "{\n",
       "\tint\tpid;\n",
       "\n",
       "\tpid = fork();\n",
       "\tif (pid < 0)\n",
       "\t{\n",
       "\t\tperror(\"fork failed\");\n",
       "\t\treturn (EXIT_FAILURE);\n",
       "\t}\n",
       "\telse if (pid == 0)\n",
       "\t\taction_enfant();\n",
       "\telse\n",
       "\t\taction_parent();\n",
       "\treturn (EXIT_SUCCESS);\n",
       "}\n",
       "\n",
       "```"
      ],
      "text/plain": [
       "<IPython.core.display.Markdown object>"
      ]
     },
     "metadata": {},
     "output_type": "display_data"
    }
   ],
   "source": [
    "with open(fork_ex) as f:\n",
    "    code = f.read()\n",
    "display(Markdown(f\"```c\\n{code}\\n```\"))"
   ]
  },
  {
   "cell_type": "code",
   "execution_count": 7,
   "metadata": {},
   "outputs": [
    {
     "name": "stdout",
     "output_type": "stream",
     "text": [
      "Hello from parent!\n",
      "Hello from child!\n"
     ]
    }
   ],
   "source": [
    "%%bash -s \"$fork_ex\"\n",
    "cc \"$1\" && ./a.out"
   ]
  },
  {
   "cell_type": "markdown",
   "metadata": {},
   "source": [
    "## dup2\n",
    "\n",
    "```c\n",
    "#include <unistd.h>\n",
    "\n",
    "int dup2(int oldfd, int newfd);\n",
    "// Duplique le descripteur de fichier `oldfd` vers `newfd`\n",
    "// Si `newfd` est déjà ouvert, il est fermé d’abord automatiquement\n",
    "// Après, `oldfd` et `newfd` pointent vers **la même cible**\n",
    "// Utilisé souvent pour rediriger stdin (0), stdout (1), stderr (2)\n",
    "\n",
    "// Renvoie `newfd` en cas de succès\n",
    "// Renvoie -1 en cas d'erreur"
   ]
  },
  {
   "cell_type": "code",
   "execution_count": 8,
   "metadata": {},
   "outputs": [
    {
     "data": {
      "text/markdown": [
       "```c\n",
       "#include \"peerclass.h\"\n",
       "\n",
       "int\tmain(void)\n",
       "{\n",
       "\tint\tfd = open(\"trace.log\", O_RDONLY);\n",
       "\tif (fd == -1)\n",
       "\t\treturn (EXIT_FAILURE);\n",
       "\n",
       "\tprint_open_fds();\n",
       "\n",
       "\tdup2(fd, STDIN_FILENO);\n",
       "\tprint_open_fds();\n",
       "\t\n",
       "\treturn (EXIT_SUCCESS);\n",
       "}\n",
       "\n",
       "```"
      ],
      "text/plain": [
       "<IPython.core.display.Markdown object>"
      ]
     },
     "metadata": {},
     "output_type": "display_data"
    }
   ],
   "source": [
    "with open(dup2_one) as f:\n",
    "    code = f.read()\n",
    "display(Markdown(f\"```c\\n{code}\\n```\"))"
   ]
  },
  {
   "cell_type": "code",
   "execution_count": 9,
   "metadata": {},
   "outputs": [
    {
     "name": "stdout",
     "output_type": "stream",
     "text": [
      "Open file descriptors:\n",
      "FD 0 -> pipe:[3086242]\n",
      "FD 1 -> pipe:[3086243]\n",
      "FD 2 -> pipe:[3086244]\n",
      "FD 3 -> /home/tgallet/miscellaneous/pipex_peerclass/trace.log\n",
      "FD 4 -> /proc/1000295/fd\n",
      "\n",
      "Open file descriptors:\n",
      "FD 0 -> /home/tgallet/miscellaneous/pipex_peerclass/trace.log\n",
      "FD 1 -> pipe:[3086243]\n",
      "FD 2 -> pipe:[3086244]\n",
      "FD 3 -> /home/tgallet/miscellaneous/pipex_peerclass/trace.log\n",
      "FD 4 -> /proc/1000295/fd\n",
      "\n"
     ]
    }
   ],
   "source": [
    "%%bash -s \"$dup2_one\"\n",
    "cc \"$1\" print_fd.c libft.a && ./a.out"
   ]
  },
  {
   "cell_type": "code",
   "execution_count": 10,
   "metadata": {},
   "outputs": [
    {
     "data": {
      "text/markdown": [
       "```c\n",
       "#include \"peerclass.h\"\n",
       "\n",
       "bool\treplace_fd(int this_fd, int by_fd)\n",
       "{\n",
       "\tint\tret_dup2;\n",
       "\tint\tret_close;\n",
       "\n",
       "\tif (by_fd < 0)\n",
       "\t\treturn (false);\n",
       "\tret_dup2 = dup2(by_fd, this_fd);\n",
       "\tret_close = close(by_fd);\n",
       "\tif (ret_dup2 == -1 || ret_close == -1)\n",
       "\t\treturn (false);\n",
       "\treturn (true);\n",
       "}\n",
       "\n",
       "int\tmain(void)\n",
       "{\n",
       "\tint\tfd = open(\"trace.log\", O_RDONLY);\n",
       "\tprint_open_fds();\n",
       "\n",
       "\tprintf(\"replacing stdin by trace.log...\\n\\n\");\n",
       "\treplace_fd(STDIN_FILENO, fd);\n",
       "\n",
       "\tprint_open_fds();\n",
       "\treturn (EXIT_SUCCESS);\n",
       "}\n",
       "\n",
       "```"
      ],
      "text/plain": [
       "<IPython.core.display.Markdown object>"
      ]
     },
     "metadata": {},
     "output_type": "display_data"
    }
   ],
   "source": [
    "with open(dup2_two) as f:\n",
    "    code = f.read()\n",
    "display(Markdown(f\"```c\\n{code}\\n```\"))"
   ]
  },
  {
   "cell_type": "code",
   "execution_count": 11,
   "metadata": {},
   "outputs": [
    {
     "name": "stdout",
     "output_type": "stream",
     "text": [
      "Open file descriptors:\n",
      "FD 0 -> pipe:[3088551]\n",
      "FD 1 -> pipe:[3088552]\n",
      "FD 2 -> pipe:[3088553]\n",
      "FD 3 -> /home/tgallet/miscellaneous/pipex_peerclass/trace.log\n",
      "FD 4 -> /proc/1000302/fd\n",
      "\n",
      "replacing stdin by trace.log...\n",
      "\n",
      "Open file descriptors:\n",
      "FD 0 -> /home/tgallet/miscellaneous/pipex_peerclass/trace.log\n",
      "FD 1 -> pipe:[3088552]\n",
      "FD 2 -> pipe:[3088553]\n",
      "FD 3 -> /proc/1000302/fd\n",
      "\n"
     ]
    }
   ],
   "source": [
    "%%bash -s \"$dup2_two\"\n",
    "cc \"$1\" print_fd.c libft.a && ./a.out"
   ]
  },
  {
   "cell_type": "markdown",
   "metadata": {},
   "source": [
    "## execve\n",
    "\n",
    "```c\n",
    "#include <unistd.h>\n",
    "\n",
    "int execve(const char *pathname, char *const argv[], char *const envp[]);\n",
    "// Remplace le process courant par un **nouveau programme** (définitif, pas de retour)\n",
    "// Ne revient **jamais** si succès (le code après ne s'exécute pas)\n",
    "// Utilisé souvent après fork() dans l’enfant\n",
    "\n",
    "// `pathname` : chemin absolu vers l'exécutable (ex: \"/bin/ls\")\n",
    "// `argv`     : arguments du programme (argv[0] = nom du programme)\n",
    "// `envp`     : tableau des variables d’environnement (ex: environ)\n",
    "\n",
    "// Renvoie -1 seulement en cas d'erreur (exécutable introuvable, permission refusée)"
   ]
  },
  {
   "cell_type": "code",
   "execution_count": 12,
   "metadata": {},
   "outputs": [
    {
     "data": {
      "text/markdown": [
       "```c\n",
       "#include \"peerclass.h\"\n",
       "\n",
       "int\tmain(void)\n",
       "{\n",
       "\tchar *a;\n",
       "\ta = malloc (42);\n",
       "\ta[1] = 42;\n",
       "\texecve(\"/bin/ls\", (char*[]){\"ls\", NULL}, NULL);\n",
       "\tprintf(\"Si j'arrive ici c'est que execve a fail\\n\");\n",
       "\treturn (EXIT_FAILURE);\n",
       "}\n",
       "\n",
       "```"
      ],
      "text/plain": [
       "<IPython.core.display.Markdown object>"
      ]
     },
     "metadata": {},
     "output_type": "display_data"
    }
   ],
   "source": [
    "with open(execve_ex) as f:\n",
    "    code = f.read()\n",
    "display(Markdown(f\"```c\\n{code}\\n```\"))"
   ]
  },
  {
   "cell_type": "code",
   "execution_count": 13,
   "metadata": {},
   "outputs": [
    {
     "name": "stdout",
     "output_type": "stream",
     "text": [
      "a.out\n",
      "dup2_one.c\n",
      "dup2_two.c\n",
      "execve_example.c\n",
      "fork_example.c\n",
      "ft_getenv.c\n",
      "libft.a\n",
      "libft.h\n",
      "peerclass.h\n",
      "peerpex.ipynb\n",
      "pipe_example.c\n",
      "pipex\n",
      "print_fd.c\n",
      "trace.log\n"
     ]
    }
   ],
   "source": [
    "%%bash -s \"$execve_ex\"\n",
    "cc \"$1\" && ./a.out"
   ]
  },
  {
   "cell_type": "markdown",
   "metadata": {},
   "source": [
    "## Récuperer une variable d'environement\n",
    "\n",
    "- man environ\n",
    "- Pour voir l'environement tape \"env\" dans ton terminal.\n",
    "- Contient une liste de string sous forme: **NAME=value**  \n",
    "\n",
    "- Dans pipex on utilisera la variable PATH\n",
    "    \n",
    "\n",
    "```c\n",
    "\n",
    "// façons possibles de récupérer l'environement:\n",
    "char    **env;\n",
    "\n",
    "// soit dans la définition du main\n",
    "int main(int argc, char **argv, char **env);\n",
    "// soit simplement taper __environ disponible globalement\n",
    "printf(\"%p\\n\", __environ);\n",
    "printf(\"%s\\n\", __environ[0]);"
   ]
  },
  {
   "cell_type": "code",
   "execution_count": 14,
   "metadata": {},
   "outputs": [
    {
     "data": {
      "text/markdown": [
       "```c\n",
       "#include \"libft.h\"\n",
       "#include \"peerclass.h\"\n",
       "\n",
       "// return an allocated char *\n",
       "char\t*ft_getenv(char *name, char **env)\n",
       "{\n",
       "\tconst char\t\t*tmp = ft_strjoin(name, \"=\");\n",
       "\tconst size_t\ttmplen = ft_strlen(tmp);\n",
       "\tchar\t\t\t*value;\n",
       "\tint\t\t\t\ti;\n",
       "\n",
       "\tif (!tmp)\n",
       "\t\treturn (NULL);\n",
       "\tvalue = NULL;\n",
       "\ti = 0;\n",
       "\twhile (env && env[i])\n",
       "\t{\n",
       "\t\tif (ft_strncmp(env[i], tmp, tmplen) == 0)\n",
       "\t\t{\n",
       "\t\t\tvalue = ft_strdup(env[i] + tmplen);\n",
       "\t\t\tbreak ;\n",
       "\t\t}\n",
       "\t\ti++;\n",
       "\t}\n",
       "\tfree((void *)tmp);\n",
       "\treturn (value);\n",
       "}\n",
       "\n",
       "int\tmain(int ac, char *av[])\n",
       "{\n",
       "\tchar\t*result;\n",
       "\tif (ac != 2)\n",
       "\t\treturn (0);\n",
       "\tresult = ft_getenv(av[1], __environ);\n",
       "\tprintf(\"%s=\\n%s\\n\", av[1], result);\n",
       "\tfree(result);\n",
       "\treturn (0);\n",
       "}\n",
       "\n",
       "```"
      ],
      "text/plain": [
       "<IPython.core.display.Markdown object>"
      ]
     },
     "metadata": {},
     "output_type": "display_data"
    }
   ],
   "source": [
    "getenv_ex = \"ft_getenv.c\"\n",
    "with open(getenv_ex) as f:\n",
    "    code = f.read()\n",
    "display(Markdown(f\"```c\\n{code}\\n```\"))"
   ]
  },
  {
   "cell_type": "code",
   "execution_count": 17,
   "metadata": {},
   "outputs": [
    {
     "name": "stdout",
     "output_type": "stream",
     "text": [
      "PATH=\n",
      "/bin:/home/tgallet/.local/bin:/home/tgallet/.local/funcheck/host:/home/tgallet/bin:/usr/local/sbin:/usr/local/bin:/usr/sbin:/usr/bin:/sbin:/bin:/usr/games:/usr/local/games:/snap/bin:/home/tgallet/.local/funcheck/host:/home/tgallet/bin:/usr/local/sbin:/usr/local/bin:/usr/sbin:/usr/bin:/sbin:/bin:/usr/games:/usr/local/games:/snap/bin\n"
     ]
    }
   ],
   "source": [
    "%%bash -s \"$getenv_ex\"\n",
    "cc \"$1\" test_getenv.c libft.a && ./a.out PATH"
   ]
  },
  {
   "cell_type": "markdown",
   "metadata": {},
   "source": [
    "## Itérer sur les chemins dans le path\n",
    "\n",
    "Quand vous taper le nom d'un executable dans votre shell (example: ls).  \n",
    "Votre shell va itérer sur les différents chemin du PATH pour trouver ls.  \n",
    "Ces chemins du path sont séparer par des ':'.  \n",
    "Il faudra split, ajouter le nom à la fin du chemin, et ensuite tester avec access"
   ]
  },
  {
   "cell_type": "code",
   "execution_count": 18,
   "metadata": {},
   "outputs": [
    {
     "data": {
      "text/markdown": [
       "```c\n",
       "#include \"peerclass.h\"\n",
       "#include \"libft.h\"\n",
       "\n",
       "char\t*iterpath(char *path_value, char *to_find)\n",
       "{\n",
       "\tconst char **paths = (const char **)ft_split(path_value, ':');\n",
       "\tchar\t\t*result;\n",
       "\tint\t\t\ti;\n",
       "\n",
       "\ti = 0;\n",
       "\tto_find = ft_strjoin(\"/\", to_find);\n",
       "\tresult = NULL;\n",
       "\twhile (to_find && paths && paths[i])\n",
       "\t{\n",
       "\t\tresult = ft_strjoin(paths[i], to_find);\n",
       "\t\tif (!result || access(result, X_OK) == 0)\n",
       "\t\t\tbreak ;\n",
       "\t\tfree(result);\n",
       "\t\tresult = NULL;\n",
       "\t\ti++;\n",
       "\t}\n",
       "\tfree(to_find);\n",
       "\tfree(paths);\n",
       "\treturn (result);\n",
       "}\n",
       "\n",
       "int\tmain(int ac, char **av)\n",
       "{\n",
       "\tchar\t*res = NULL;\n",
       "\tchar\t*path_value = ft_getenv(\"PATH\", __environ);\n",
       "\n",
       "\tif (ac != 2)\n",
       "\t\treturn (0);\n",
       "\tif (path_value)\n",
       "\t\tres = iterpath(path_value, av[1]);\n",
       "\tprintf(\"resultat: %s\\n\", res);\n",
       "\treturn (0);\n",
       "}\n",
       "\n",
       "```"
      ],
      "text/plain": [
       "<IPython.core.display.Markdown object>"
      ]
     },
     "metadata": {},
     "output_type": "display_data"
    }
   ],
   "source": [
    "iterpath_ex = \"iterpath.c\"\n",
    "\n",
    "with open(iterpath_ex) as f:\n",
    "    code = f.read()\n",
    "display(Markdown(f\"```c\\n{code}\\n```\"))"
   ]
  },
  {
   "cell_type": "markdown",
   "metadata": {},
   "source": [
    "Rentre l'executable que tu veux chercher dans la variable **to_find** suivante"
   ]
  },
  {
   "cell_type": "code",
   "execution_count": 24,
   "metadata": {},
   "outputs": [],
   "source": [
    "to_find = \"blabla\""
   ]
  },
  {
   "cell_type": "code",
   "execution_count": 25,
   "metadata": {},
   "outputs": [
    {
     "name": "stdout",
     "output_type": "stream",
     "text": [
      "resultat: (null)\n"
     ]
    }
   ],
   "source": [
    "%%bash -s \"$iterpath_ex\" \"$to_find\"\n",
    "cc \"$1\" ft_getenv.c libft.a && ./a.out \"$2\""
   ]
  }
 ],
 "metadata": {
  "kernelspec": {
   "display_name": "Python 3",
   "language": "python",
   "name": "python3"
  },
  "language_info": {
   "codemirror_mode": {
    "name": "ipython",
    "version": 3
   },
   "file_extension": ".py",
   "mimetype": "text/x-python",
   "name": "python",
   "nbconvert_exporter": "python",
   "pygments_lexer": "ipython3",
   "version": "3.10.14"
  }
 },
 "nbformat": 4,
 "nbformat_minor": 2
}
