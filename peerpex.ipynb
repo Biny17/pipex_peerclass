{
 "cells": [
  {
   "cell_type": "markdown",
   "metadata": {},
   "source": [
    "# Explications des functions + exemples\n",
    "\n",
    "- **pipe (`|`)**: Crée un lien: fd pour envoyer + fd pour recevoir\n",
    "- **fork**: Creates a new process by duplicating the current process.\n",
    "- **dup2 + close**: Used to duplicate file descriptors and close unnecessary ones.\n",
    "- **open**: Opens a file and returns a file descriptor.\n",
    "- **execve**: Replaces the current process image with a new process image."
   ]
  },
  {
   "cell_type": "code",
   "execution_count": 11,
   "metadata": {},
   "outputs": [],
   "source": [
    "#some definitions\n",
    "pipe_ex = \"pipe_example.c\""
   ]
  },
  {
   "cell_type": "markdown",
   "metadata": {},
   "source": [
    "## Pipe\n",
    "\n",
    "```c\n",
    "#include <unistd.h>\n",
    "\n",
    "int pipe(int pipefd[2]);\n",
    "// Remplie pipefd[2] avec les deux fd\n",
    "// Renvoie -1 en cas d'erreur\n",
    "// Renvoie  0 en cas de succès"
   ]
  },
  {
   "cell_type": "markdown",
   "metadata": {},
   "source": [
    "#### Petite structure pratique 😎\n",
    "```c\n",
    "typedef struct s_pipefd\n",
    "{\n",
    "\tint\tread_fd;\n",
    "\tint\twrite_fd;\n",
    "}\tt_pipefd;"
   ]
  },
  {
   "cell_type": "code",
   "execution_count": 14,
   "metadata": {},
   "outputs": [
    {
     "data": {
      "text/markdown": [
       "```c\n",
       "#include <unistd.h>\n",
       "#include <stdio.h>\n",
       "\n",
       "typedef struct s_pipefd\n",
       "{\n",
       "\tint\tread_fd;\n",
       "\tint\twrite_fd;\n",
       "}\tt_pipefd;\n",
       "\n",
       "int\tmain(void)\n",
       "{\n",
       "\tt_pipefd\tfds;\n",
       "\tint\t\t\tresult;\n",
       "\n",
       "\tresult = pipe((int *) &fds);\n",
       "\n",
       "\tprintf(\"resultat: %d\\n\", result);\n",
       "\tprintf(\"fd pour read: %d\\n\", fds.read_fd);\n",
       "\tprintf(\"fd pour write: %d\\n\", fds.write_fd);\n",
       "\n",
       "\treturn (0);\n",
       "}\n",
       "\n",
       "```"
      ],
      "text/plain": [
       "<IPython.core.display.Markdown object>"
      ]
     },
     "metadata": {},
     "output_type": "display_data"
    }
   ],
   "source": [
    "from IPython.display import Markdown, display\n",
    "with open(pipe_ex) as f:\n",
    "    code = f.read()\n",
    "display(Markdown(f\"```c\\n{code}\\n```\"))"
   ]
  },
  {
   "cell_type": "code",
   "execution_count": 13,
   "metadata": {},
   "outputs": [
    {
     "name": "stdout",
     "output_type": "stream",
     "text": [
      "resultat: 0\n",
      "fd pour read: 3\n",
      "fd pour write: 4\n"
     ]
    }
   ],
   "source": [
    "%%bash -s \"$pipe_ex\"\n",
    "cc \"$1\" && ./a.out"
   ]
  },
  {
   "cell_type": "code",
   "execution_count": null,
   "metadata": {},
   "outputs": [],
   "source": [
    "w,h=map(int,input().split())\n",
    "r=[0]*w\n",
    "for _ in[0]*h:r=[a+(c=='|')-(c=='=')*a for a,c in zip(r,input())]\n",
    "print(sum(r))"
   ]
  }
 ],
 "metadata": {
  "kernelspec": {
   "display_name": "Fun",
   "language": "python",
   "name": "python3"
  },
  "language_info": {
   "codemirror_mode": {
    "name": "ipython",
    "version": 3
   },
   "file_extension": ".py",
   "mimetype": "text/x-python",
   "name": "python",
   "nbconvert_exporter": "python",
   "pygments_lexer": "ipython3",
   "version": "3.12.2"
  }
 },
 "nbformat": 4,
 "nbformat_minor": 2
}
